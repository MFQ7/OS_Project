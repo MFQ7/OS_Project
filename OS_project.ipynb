{
 "cells": [
  {
   "attachments": {},
   "cell_type": "markdown",
   "id": "6a974794-6f7a-4563-8316-1c9441f3a2fd",
   "metadata": {},
   "source": [
    "# OS Simulator"
   ]
  },
  {
   "attachments": {},
   "cell_type": "markdown",
   "id": "db1ed323-b6ab-46b9-9110-d1719df73e73",
   "metadata": {},
   "source": [
    "##### This project is to simulate the CPU scheduling algorithms, banker’s algorithm, page replacement algorithms"
   ]
  },
  {
   "cell_type": "code",
   "execution_count": 2,
   "id": "00065da9-eb6a-42c0-aec9-3035f843b8ab",
   "metadata": {},
   "outputs": [],
   "source": [
    "from tabulate import tabulate\n",
    "import matplotlib.pyplot as plt"
   ]
  },
  {
   "cell_type": "code",
   "execution_count": 3,
   "id": "b5704704-d0ae-46d1-8083-a3ae2e61eb69",
   "metadata": {},
   "outputs": [],
   "source": [
    "def check_in(name):\n",
    "    while True:\n",
    "        u = input(\"Enter \"+ name+\": \")\n",
    "        if (u.isnumeric()):\n",
    "            u = int(u)\n",
    "            return u\n",
    "        else:\n",
    "            print(\"invalid\", name , \", try again\\n\")"
   ]
  },
  {
   "cell_type": "markdown",
   "id": "19ad5bef-bbc7-4c15-a7ac-e0bbdaaf978d",
   "metadata": {},
   "source": [
    "## Scheduling Algorithms"
   ]
  },
  {
   "cell_type": "markdown",
   "id": "a511fa56-635a-4bb8-870a-ebed9871afc1",
   "metadata": {},
   "source": [
    "#### Taking Processes From User"
   ]
  },
  {
   "cell_type": "code",
   "execution_count": 4,
   "id": "776b8a1e-0a34-4d85-9193-b6982b2d47e5",
   "metadata": {},
   "outputs": [],
   "source": [
    "def processes_input():\n",
    "    num_of_processes = input(\"Enter Number of Processes: \")\n",
    "    num_of_processes = int(num_of_processes) if num_of_processes.isnumeric() else 0\n",
    "    processes = []\n",
    "    \n",
    "    \n",
    "        \n",
    "    # take in arrival and burst times from user for each process \n",
    "    for i in range(num_of_processes):\n",
    "        print(\"Process\", (i+1))\n",
    "        while True:\n",
    "            arrival = input(\"Enter Arrival Time: \")\n",
    "            if (arrival.isnumeric() or arrival == \"\"):\n",
    "                if (arrival == \"\"):\n",
    "                    arrival = 0\n",
    "                else:\n",
    "                    arrival = int(arrival)\n",
    "                break\n",
    "            else:\n",
    "                print(\"invalid arrival, try again\\n\")\n",
    "\n",
    "        burst = check_in(\"burst\")\n",
    "    \n",
    "        # add [process, arrival, burst, waiting, turnaround, progress] as list, in list processses\n",
    "        processes.append([i+1, arrival, burst, 0, 0, 0])\n",
    "        \n",
    "    return processes"
   ]
  },
  {
   "cell_type": "markdown",
   "id": "80fd5d01-9eeb-44ba-997f-6ce9a2270eed",
   "metadata": {},
   "source": [
    "#### Processes Computation and Result"
   ]
  },
  {
   "cell_type": "code",
   "execution_count": 5,
   "id": "b0013e5f-ccff-4708-96af-7490778bf6ce",
   "metadata": {},
   "outputs": [],
   "source": [
    "def processes_result(processes, gantt_chart):\n",
    "    # sort based on process number because ORDER is important\n",
    "    processes.sort(key=lambda x: x[0])\n",
    "    gantt_chart.sort(key=lambda x: x[0])\n",
    "    gantt_chart.remove(\"<\") # remove temporary string, because I'm a bad coder :(\n",
    "    \n",
    "    num_of_processes = len(processes)\n",
    "    avg_turnaround = 0\n",
    "    avg_wait = 0\n",
    "    \n",
    "    # computing turnaround for each process, and adding all waitings and turnarounds\n",
    "    for process in processes:\n",
    "        avg_wait += process[3]\n",
    "        process[4] = process[2] + process[3]\n",
    "        avg_turnaround += process[4]\n",
    "\n",
    "    # computing avrage turnaround and waiting\n",
    "    avg_turnaround /= num_of_processes\n",
    "    avg_wait /= num_of_processes\n",
    "\n",
    "    # table each process info\n",
    "    head = [\"process number\",  \"arrival time\", \"burst time\", \"waiting time\", \"turnaround time\"]\n",
    "    print(tabulate(processes, headers=head, tablefmt=\"grid\"))\n",
    "    \n",
    "    print(\"Average Waiting Time: \", avg_wait, \"ms\\nAverage Turnaround Time:\", avg_turnaround, \"ms\")\n",
    "    \n",
    "    print(\"\\nGantt Chart:-\")\n",
    "    fig, ax = plt.subplots(figsize=(10, 6))\n",
    "    for task in gantt_chart:\n",
    "        process_name, start_time, end_time = task\n",
    "        ax.barh(process_name, end_time - start_time, left=start_time, color='skyblue', edgecolor='black')\n",
    "\n",
    "    ax.set_xlabel(\"Time in milliseconds\")\n",
    "    ax.set_ylabel(\"Processes\")\n",
    "    ax.set_title(\"Gantt Chart\")\n",
    "    plt.grid(axis='x', linestyle='--', alpha=0.6)\n",
    "    plt.show()"
   ]
  },
  {
   "attachments": {},
   "cell_type": "markdown",
   "id": "d3df0886-7903-4996-9463-1a416487c012",
   "metadata": {},
   "source": [
    "### First Come First Serve (FCFS)"
   ]
  },
  {
   "cell_type": "code",
   "execution_count": 6,
   "id": "7a550423-7e3c-444f-8530-b71eaa06cb92",
   "metadata": {},
   "outputs": [],
   "source": [
    "def fcfs(processes):\n",
    "    if(processes is None):\n",
    "        processes = processes_input()\n",
    "    num_of_processes = len(processes)\n",
    "    \n",
    "    time_elapsed = 0 # for imagiary time, to similute scheduling\n",
    "    wait = 0 # to calculate wait for each process\n",
    "    \n",
    "    completed = [] # list of completed processes\n",
    "    gantt_chart = [\"<\"] # list for gantt chart with temprary string\n",
    "    ready_Q = [] # list of ready processes\n",
    "    while len(completed) < num_of_processes: # run until all process are done\n",
    "        \n",
    "        for process in processes:\n",
    "            # we don't want processes that haven't arrived, and completed, and already in Q\n",
    "            if (process[1] <= time_elapsed and process not in completed and process not in ready_Q):\n",
    "                ready_Q.append(process)\n",
    "        # check if we have processes ready\n",
    "        if (len(ready_Q) > 0):\n",
    "            process = ready_Q[0]\n",
    "\n",
    "            # gantt chart noting\n",
    "            process_num = (\"p\"+str(process[0]))\n",
    "            if(gantt_chart[-1][0]!= process_num):\n",
    "                gantt_chart.append([process_num, time_elapsed, time_elapsed+1])\n",
    "            else:\n",
    "                gantt_chart[-1][2]+=1\n",
    "\n",
    "            process[3] = time_elapsed - process[1] - process[5] # computing wait time\n",
    "            process[5] += 1 # adding 1 to progress of the process\n",
    "            \n",
    "            if(process[5] >= process[2]):\n",
    "                process.pop(-1) # removing progress because everyone hates it\n",
    "                ready_Q.pop(0)\n",
    "                completed.append(process) # add process to completed list. YAY!\n",
    "        time_elapsed +=1 # adding 1 to our imagiary time\n",
    "\n",
    "    processes_result(processes, gantt_chart)"
   ]
  },
  {
   "cell_type": "markdown",
   "id": "d1394ea0-1028-4158-b62b-36d12db655f5",
   "metadata": {},
   "source": [
    "#### Examples from Lecture Slides"
   ]
  },
  {
   "cell_type": "code",
   "execution_count": 7,
   "id": "73aa5889-5d9c-482f-babb-f0c1ab98a1d0",
   "metadata": {},
   "outputs": [
    {
     "name": "stdout",
     "output_type": "stream",
     "text": [
      "+------------------+----------------+--------------+----------------+-------------------+\n",
      "|   process number |   arrival time |   burst time |   waiting time |   turnaround time |\n",
      "+==================+================+==============+================+===================+\n",
      "|                1 |             10 |           10 |             14 |                24 |\n",
      "+------------------+----------------+--------------+----------------+-------------------+\n",
      "|                2 |              0 |           12 |              0 |                12 |\n",
      "+------------------+----------------+--------------+----------------+-------------------+\n",
      "|                3 |              3 |            8 |              9 |                17 |\n",
      "+------------------+----------------+--------------+----------------+-------------------+\n",
      "|                4 |              5 |            4 |             15 |                19 |\n",
      "+------------------+----------------+--------------+----------------+-------------------+\n",
      "|                5 |             12 |            6 |             22 |                28 |\n",
      "+------------------+----------------+--------------+----------------+-------------------+\n",
      "Average Waiting Time:  12.0 ms\n",
      "Average Turnaround Time: 20.0 ms\n",
      "\n",
      "Gantt Chart:-\n"
     ]
    },
    {
     "data": {
      "image/png": "[encoded data removed]",
      "text/plain": [
       "<Figure size 1000x600 with 1 Axes>"
      ]
     },
     "metadata": {},
     "output_type": "display_data"
    }
   ],
   "source": [
    "\n",
    "# [i+1, arrival, burst, 0, 0, 0]\n",
    "\n",
    "#Slide 13: \n",
    "#fcfs([[1, 0, 24, 0, 0, 0], [2, 0, 3, 0, 0, 0], [3, 0, 3, 0, 0, 0]])\n",
    "# result: Average waiting time:  (0 + 24 + 27)/3 = 17 ms, Waiting time for P1  = 0; P2  = 24; P3 = 27 ms\n",
    "\n",
    "#Slide 14: \n",
    "#fcfs([[1, 0, 3, 0, 0, 0], [2, 0, 3, 0, 0, 0], [3, 0, 24, 0, 0, 0]])\n",
    "# Waiting time for P1 = 6; P2 = 0; P3 = 3 ms, Average waiting time:   (6 + 0 + 3)/3 = 3 ms\n",
    "\n",
    "#Slide 16:\n",
    "fcfs([[1, 10, 10, 0, 0, 0], [2, 0, 12, 0, 0, 0], [3, 3, 8, 0, 0, 0], [4, 5, 4, 0, 0, 0], [5, 12, 6, 0, 0, 0]])\n",
    "#Average waiting time = 60 /5= 12 ms\n"
   ]
  },
  {
   "attachments": {},
   "cell_type": "markdown",
   "id": "a72e33c1-bdac-4068-bbe7-a3fb2f0c5a6f",
   "metadata": {},
   "source": [
    "### Shortest job first (Non-Preemptive)"
   ]
  },
  {
   "cell_type": "code",
   "execution_count": 8,
   "id": "835bc37d-8101-4494-b858-ea67ce99d371",
   "metadata": {},
   "outputs": [],
   "source": [
    "def sjf_non_preemptive(processes):\n",
    "    if(processes is None):\n",
    "        processes = processes_input()\n",
    "    num_of_processes = len(processes)\n",
    "    \n",
    "    time_elapsed = 0 # for imagiary time, to similute scheduling\n",
    "    wait = 0 # to calculate wait for each process\n",
    "    \n",
    "    completed = [] # list of completed processes\n",
    "    gantt_chart = [\"<\"] # list for gantt chart with temprary string\n",
    "    \n",
    "    ready_Q = [] # ready Q list outside because we want to maintain it elements order\n",
    "    locked = False # this is to lock a process of other mean processes that wants to join\n",
    "\n",
    "    \n",
    "    while len(completed) < num_of_processes: # run until all process are done\n",
    "        for process in processes:\n",
    "            # we don't want processes that haven't arrived, and completed, and already in Q\n",
    "            if (process[1] <= time_elapsed and process not in completed and process not in ready_Q):\n",
    "                ready_Q.append(process)\n",
    "        # check if we have processes ready\n",
    "        if (len(ready_Q) > 0):\n",
    "            # check if it's locked to switch to another process\n",
    "            if locked == False:\n",
    "                ready_Q.sort(key=lambda x: (x[2], x[1])) #  sort based on burst time\n",
    "                locked = True # YOU SHALL NOT  PASS!\n",
    "            process = ready_Q[0]\n",
    "\n",
    "            # gantt chart noting\n",
    "            process_num = (\"p\"+str(process[0]))\n",
    "            if(gantt_chart[-1][0]!= process_num):\n",
    "                gantt_chart.append([process_num, time_elapsed, time_elapsed+1])\n",
    "            else:\n",
    "                gantt_chart[-1][2]+=1\n",
    "            \n",
    "            process[3] = time_elapsed - process[1] - process[5] # computing wait time\n",
    "            process[5] += 1 # adding 1 to progress of the process\n",
    "            \n",
    "            if(process[5] >= process[2]):\n",
    "                process.pop(-1) # removing progress because everyone hates it\n",
    "                ready_Q.pop(0) # remove the process from ready Q\n",
    "                locked = False # YOU SHALL PASS\n",
    "                completed.append(process) # add process to completed list. YAY!\n",
    "        time_elapsed += 1 # adding 1 to our imagiary time\n",
    "    processes_result(processes, gantt_chart)"
   ]
  },
  {
   "cell_type": "markdown",
   "id": "850fca7d-d201-4bef-9086-b5f488da693e",
   "metadata": {},
   "source": [
    "#### Examples from Lecture Slides"
   ]
  },
  {
   "cell_type": "code",
   "execution_count": 9,
   "id": "ce1afcf6-48cf-498d-aef6-2a10bb431157",
   "metadata": {},
   "outputs": [
    {
     "name": "stdout",
     "output_type": "stream",
     "text": [
      "+------------------+----------------+--------------+----------------+-------------------+\n",
      "|   process number |   arrival time |   burst time |   waiting time |   turnaround time |\n",
      "+==================+================+==============+================+===================+\n",
      "|                1 |              0 |            8 |              0 |                 8 |\n",
      "+------------------+----------------+--------------+----------------+-------------------+\n",
      "|                2 |              1 |            4 |              7 |                11 |\n",
      "+------------------+----------------+--------------+----------------+-------------------+\n",
      "|                3 |              2 |            9 |             15 |                24 |\n",
      "+------------------+----------------+--------------+----------------+-------------------+\n",
      "|                4 |              3 |            5 |              9 |                14 |\n",
      "+------------------+----------------+--------------+----------------+-------------------+\n",
      "Average Waiting Time:  7.75 ms\n",
      "Average Turnaround Time: 14.25 ms\n",
      "\n",
      "Gantt Chart:-\n"
     ]
    },
    {
     "data": {
      "image/png": "[encoded data removed]",
      "text/plain": [
       "<Figure size 1000x600 with 1 Axes>"
      ]
     },
     "metadata": {},
     "output_type": "display_data"
    }
   ],
   "source": [
    "\n",
    "# [i+1, arrival, burst, 0, 0, 0]\n",
    "\n",
    "#Slide 19: \n",
    "#sjf_non_preemptive([[1, 0, 6, 0, 0, 0], [2, 0, 8, 0, 0, 0], [3, 0, 7, 0, 0, 0], [4, 0, 3, 0, 0, 0]])\n",
    "# result: Average waiting time = (3 + 16 + 9 + 0) / 4 = 7 ms\n",
    "\n",
    "#Slide 23: \n",
    "sjf_non_preemptive([[1, 0, 8, 0, 0, 0], [2, 1, 4, 0, 0, 0], [3, 2, 9, 0, 0, 0], [4, 3, 5, 0, 0, 0]])\n",
    "# result: Average waiting time = [0+(8-1)+(12-3)+(17-2)]/4=7.75 ms\n",
    "\n",
    "#Slide 25: \n",
    "#sjf_non_preemptive([[1, 10, 10, 0, 0, 0], [2, 0, 12, 0, 0, 0], [3, 3, 8, 0, 0, 0], [4, 5, 4, 0, 0, 0], [5, 12, 6, 0, 0, 0]])\n",
    "# result: Average waiting time =  = 9.0 ms\n"
   ]
  },
  {
   "attachments": {},
   "cell_type": "markdown",
   "id": "c1b33803-438d-428b-b986-c4f572fb9779",
   "metadata": {},
   "source": [
    "### Shortest job first (Preemptive)"
   ]
  },
  {
   "cell_type": "code",
   "execution_count": 10,
   "id": "268e3b79-212b-4c11-93da-1534b5938575",
   "metadata": {},
   "outputs": [],
   "source": [
    "def sjf_preemptive(processes):\n",
    "    if(processes is None):\n",
    "        processes = processes_input()\n",
    "    num_of_processes = len(processes)\n",
    "    \n",
    "    time_elapsed = 0 # for imagiary time, to similute scheduling\n",
    "    wait = 0 # to calculate wait for each process\n",
    "    \n",
    "    completed = [] # list of completed processes\n",
    "    gantt_chart = [\"<\"] # list for gantt chart with temprary string\n",
    "    \n",
    "    while len(completed) < num_of_processes:\n",
    "        ready_Q = []\n",
    "        for process in processes:\n",
    "            # we don't want processes that haven't arrived, and completed, and already in Q\n",
    "            if (process[1] <= time_elapsed and process not in completed and process not in ready_Q):\n",
    "                ready_Q.append(process)\n",
    "        # check if we have processes ready\n",
    "        if (len(ready_Q) > 0):\n",
    "            ready_Q.sort(key=lambda x: (x[2], x[1])) # always sort by burst time\n",
    "            process = ready_Q[0] # we always get shotest burst\n",
    "            \n",
    "            # gantt chart noting\n",
    "            process_num = (\"p\"+str(process[0]))\n",
    "            if(gantt_chart[-1][0]!= process_num):\n",
    "                gantt_chart.append([process_num, time_elapsed, time_elapsed+1])\n",
    "            else:\n",
    "                gantt_chart[-1][2]+=1\n",
    "            \n",
    "            process[3] = time_elapsed - process[1] - process[5] # computing wait time\n",
    "            process[5] += 1 # adding 1 to progress of the process\n",
    "            process[2] -= 1 # subtract 1 from burst so we can check for shortest\n",
    "            if(process[2]<= 0): # process is done when burst is 0\n",
    "                process[2] = process[5] # retrieve back burst from progress\n",
    "                process.pop(-1) # progress you're job is done\n",
    "                completed.append(process) # add process to completed list. YAY!\n",
    "        time_elapsed += 1 # adding 1 to our imagiary time\n",
    "\n",
    "    processes_result(processes, gantt_chart)"
   ]
  },
  {
   "cell_type": "markdown",
   "id": "40889362-8b29-4b6e-8594-f5ca9c350951",
   "metadata": {},
   "source": [
    "#### Examples from Lecture Slides"
   ]
  },
  {
   "cell_type": "code",
   "execution_count": 11,
   "id": "4f4c9d97-9237-47db-a846-3bff3065886a",
   "metadata": {},
   "outputs": [
    {
     "name": "stdout",
     "output_type": "stream",
     "text": [
      "+------------------+----------------+--------------+----------------+-------------------+\n",
      "|   process number |   arrival time |   burst time |   waiting time |   turnaround time |\n",
      "+==================+================+==============+================+===================+\n",
      "|                1 |             10 |           10 |             20 |                30 |\n",
      "+------------------+----------------+--------------+----------------+-------------------+\n",
      "|                2 |              0 |           12 |             18 |                30 |\n",
      "+------------------+----------------+--------------+----------------+-------------------+\n",
      "|                3 |              3 |            8 |              4 |                12 |\n",
      "+------------------+----------------+--------------+----------------+-------------------+\n",
      "|                4 |              5 |            4 |              0 |                 4 |\n",
      "+------------------+----------------+--------------+----------------+-------------------+\n",
      "|                5 |             12 |            6 |              3 |                 9 |\n",
      "+------------------+----------------+--------------+----------------+-------------------+\n",
      "Average Waiting Time:  9.0 ms\n",
      "Average Turnaround Time: 17.0 ms\n",
      "\n",
      "Gantt Chart:-\n"
     ]
    },
    {
     "data": {
      "image/png": "[encoded data removed]",
      "text/plain": [
       "<Figure size 1000x600 with 1 Axes>"
      ]
     },
     "metadata": {},
     "output_type": "display_data"
    }
   ],
   "source": [
    "\n",
    "# [i+1, arrival, burst, 0, 0, 0]\n",
    "\n",
    "#Slide 23: \n",
    "#sjf_preemptive([[1, 0, 8, 0, 0, 0], [2, 1, 4, 0, 0, 0], [3, 2, 9, 0, 0, 0], [4, 3, 5, 0, 0, 0]])\n",
    "# result: Average waiting time = [(10-1)+(1-1)+(17-2)+(5-3)]/4 = 26/4 = 6.5 ms\n",
    "\n",
    "#Slide 25: \n",
    "sjf_preemptive([[1, 10, 10, 0, 0, 0], [2, 0, 12, 0, 0, 0], [3, 3, 8, 0, 0, 0], [4, 5, 4, 0, 0, 0], [5, 12, 6, 0, 0, 0]])\n",
    "# result: Average waiting time =  = 9.0 ms"
   ]
  },
  {
   "attachments": {},
   "cell_type": "markdown",
   "id": "c25e5cc3-06d4-40aa-863e-e9cc711f3e55",
   "metadata": {},
   "source": [
    "### Round Robin"
   ]
  },
  {
   "cell_type": "code",
   "execution_count": 12,
   "id": "87859af8-f2fd-431f-9581-a066f0447e6c",
   "metadata": {},
   "outputs": [],
   "source": [
    "def round_robin(processes, time_q):\n",
    "    if(processes is None):\n",
    "        processes = processes_input()\n",
    "\n",
    "        time_q = check_in(\"Time Quantum\")\n",
    "\n",
    "    num_of_processes = len(processes)\n",
    "    \n",
    "    time_elapsed = 0 # for imagiary time, to similute scheduling\n",
    "    wait = 0 # to calculate wait for each process\n",
    "    ready_Q = []\n",
    "    completed = [] # list of completed processes\n",
    "    gantt_chart = [\"<\"] # list for gantt chart with temprary string\n",
    "    q = 0\n",
    "    while len(completed) < num_of_processes:\n",
    "        q +=1\n",
    "        for process in processes:\n",
    "            # we don't want processes that haven't arrived, and completed, and already in Q\n",
    "            if (process[1] <= time_elapsed and process not in completed and process not in ready_Q):\n",
    "                ready_Q.append(process)\n",
    "        \n",
    "        # check if we have processes ready\n",
    "        if (len(ready_Q) > 0):\n",
    "            process = ready_Q[0] # we always get shotest burst\n",
    "            # gantt chart noting\n",
    "            process_num = (\"p\"+str(process[0]))\n",
    "            if(gantt_chart[-1][0]!= process_num):\n",
    "                gantt_chart.append([process_num, time_elapsed, time_elapsed+1])\n",
    "            else:\n",
    "                gantt_chart[-1][2]+=1\n",
    "\n",
    "            for j in range(1, len(ready_Q)):\n",
    "                ready_Q[j][3] += 1\n",
    "                \n",
    "            process[5] += 1 # adding 1 to progress of the process\n",
    "            \n",
    "            if(process[5] >= process[2]): # process is done when burst == progress\n",
    "                process.pop(-1) # progress you're job is done\n",
    "                ready_Q.pop(0)\n",
    "                completed.append(process) # add process to completed list. YAY!\n",
    "                q = 0\n",
    "                \n",
    "            elif(q  % time_q == 0): # check if time q has passed to change process\n",
    "                temp = ready_Q.pop(0)\n",
    "                ready_Q.append(temp)\n",
    "                q = 0\n",
    "        \n",
    "        time_elapsed += 1 # adding 1 to our imagiary time\n",
    "    \n",
    "\n",
    "            \n",
    "    processes_result(processes, gantt_chart)\n",
    "    "
   ]
  },
  {
   "cell_type": "markdown",
   "id": "3c7b8253-a33c-4281-b3d3-8fd99948e95a",
   "metadata": {},
   "source": [
    "#### Examples from Lecture Slides"
   ]
  },
  {
   "cell_type": "code",
   "execution_count": 13,
   "id": "1673cd95-6588-4039-8623-6ee60830edf5",
   "metadata": {},
   "outputs": [
    {
     "name": "stdout",
     "output_type": "stream",
     "text": [
      "+------------------+----------------+--------------+----------------+-------------------+\n",
      "|   process number |   arrival time |   burst time |   waiting time |   turnaround time |\n",
      "+==================+================+==============+================+===================+\n",
      "|                1 |              0 |           12 |             27 |                39 |\n",
      "+------------------+----------------+--------------+----------------+-------------------+\n",
      "|                2 |              0 |            8 |             24 |                32 |\n",
      "+------------------+----------------+--------------+----------------+-------------------+\n",
      "|                3 |              0 |            4 |             10 |                14 |\n",
      "+------------------+----------------+--------------+----------------+-------------------+\n",
      "|                4 |              0 |           10 |             27 |                37 |\n",
      "+------------------+----------------+--------------+----------------+-------------------+\n",
      "|                5 |              0 |            5 |             19 |                24 |\n",
      "+------------------+----------------+--------------+----------------+-------------------+\n",
      "Average Waiting Time:  21.4 ms\n",
      "Average Turnaround Time: 29.2 ms\n",
      "\n",
      "Gantt Chart:-\n"
     ]
    },
    {
     "data": {
      "image/png": "[encoded data removed]",
      "text/plain": [
       "<Figure size 1000x600 with 1 Axes>"
      ]
     },
     "metadata": {},
     "output_type": "display_data"
    }
   ],
   "source": [
    "#Slide 33:\n",
    "#round_robin([[1, 0, 24, 0, 0, 0], [2, 0, 3, 0, 0, 0], [3, 0, 3, 0, 0, 0]], 4)\n",
    "# Result: Avg. Wait Time = (6+4+7)/3 = 5.66666666667\n",
    "\n",
    "#Slide 35:\n",
    "round_robin([[1, 0, 12, 0, 0, 0], [2, 0, 8, 0, 0, 0], [3, 0, 4, 0, 0, 0], [4, 0, 10, 0, 0, 0], [5, 0, 5, 0, 0, 0]], 5)\n",
    "# Result: Avg. Wait Time = 107/5 = 21.4"
   ]
  },
  {
   "cell_type": "markdown",
   "id": "93d278b0-ffa4-494c-8798-93ace168a3fb",
   "metadata": {},
   "source": [
    "## Deadlock Avoidance Algorithm"
   ]
  },
  {
   "cell_type": "markdown",
   "id": "28c21bdb-9a69-4ee0-a33c-c1601f9c1d42",
   "metadata": {},
   "source": [
    "#### Taking inputs for bankers"
   ]
  },
  {
   "cell_type": "code",
   "execution_count": 14,
   "id": "50662e3b-def8-4e4f-9d71-bd33ce9a05e6",
   "metadata": {},
   "outputs": [],
   "source": [
    "def take_banker():\n",
    "\n",
    "    num_of_processes = check_in(\"Number of Processes\")\n",
    "\n",
    "\n",
    "    num_of_resources = check_in(\"Number of Resources\")\n",
    "    instances_per_resources = []\n",
    "    \n",
    "    print(\"\\nThe number of instances for each resource:-\")\n",
    "    for i in range(num_of_resources):\n",
    "        print(\"Resource\", i+1)\n",
    "        instance = check_in(\"Number of Instances\")\n",
    "\n",
    "    allocations = []\n",
    "    print(\"\\nThe Allocation Matrix (row by row):-\")\n",
    "    for i in range(num_of_processes):\n",
    "        print(\"Allocation for process\", i)\n",
    "        alloc = check_in(\"allocation\")\n",
    "        alloc = list(str(alloc))\n",
    "        temp = []\n",
    "        for j in alloc:\n",
    "            temp.append(int(j))\n",
    "        allocations.append(temp)\n",
    "        \n",
    "    maxis = []\n",
    "    print(\"\\nThe Max Matrix (row by row):-\")\n",
    "    for i in range(num_of_processes):\n",
    "        print(\"Max for process\", i)\n",
    "        max = check_in(\"max\")\n",
    "        max = list(str(max))\n",
    "        temp = []\n",
    "        for j in max:\n",
    "            temp.append(int(j))\n",
    "        maxis.append(temp)\n",
    "        \n",
    "    available = check_in(\"available vector\")\n",
    "    available = list(str(available))\n",
    "    temp = []\n",
    "    for i in available:\n",
    "        temp.append(int(i))\n",
    "    available = temp\n",
    "\n",
    "    return num_of_processes, num_of_resources, instances_per_resources, allocations, maxis, available"
   ]
  },
  {
   "cell_type": "markdown",
   "id": "a9945718-93bd-46c8-970f-f30403c8a6b9",
   "metadata": {},
   "source": [
    "### Banker’s Algorithm"
   ]
  },
  {
   "cell_type": "code",
   "execution_count": 15,
   "id": "5d75e187-fc20-4413-89bd-39a4fddf44be",
   "metadata": {},
   "outputs": [],
   "source": [
    "def bankers(num_of_processes, num_of_resources, instances_per_resources, allocations, maxis, available):\n",
    "    if num_of_processes is None:\n",
    "        num_of_processes, num_of_resources, instances_per_resources, allocations, maxis, available = take_banker()\n",
    "    \n",
    "    og_available = available.copy()\n",
    "    need =[]\n",
    "    for i in range(num_of_processes):\n",
    "        temp = []\n",
    "        for j in range(num_of_resources):\n",
    "             temp.append(maxis[i][j] - allocations[i][j])\n",
    "        need.append(temp)\n",
    "        \n",
    "    completed = []  # Track completed processes\n",
    "    safe_sequence = []  # Store the safe sequence\n",
    "    available_list = []\n",
    "\n",
    "    while len(completed) < num_of_processes:\n",
    "        process_executed = False\n",
    "\n",
    "        for i in range(num_of_processes):\n",
    "            \n",
    "            # Skip if process is already completed\n",
    "            if i in completed:\n",
    "                continue\n",
    "\n",
    "            # Check if the process can safely execute\n",
    "            if all(need[i][j] <= available[j] for j in range(num_of_resources)):\n",
    "                available_list.append([i, available.copy()])\n",
    "                # Update available resources\n",
    "                for j in range(num_of_resources):\n",
    "                    available[j] += allocations[i][j]\n",
    "\n",
    "                # Mark process as completed\n",
    "                completed.append(i)\n",
    "                safe_sequence.append(\"P\"+str(i))\n",
    "                process_executed = True\n",
    "\n",
    "        # If no process executes in an iteration, the system is unsafe\n",
    "        if not process_executed:\n",
    "            print(\"System is in an unsafe state. Deadlock detected.\")\n",
    "            return\n",
    "        available_list.append(available)\n",
    "\n",
    "    \n",
    "    # Output the results\n",
    "    print(\"\\nSafe sequence is:\", \" -> \".join(safe_sequence))\n",
    "    \n",
    "    available_list = [i for i in available_list if i != instances_per_resources] \n",
    "    available_list.sort(key=lambda x: x[0])\n",
    "    table = []\n",
    "    for i in range(num_of_processes):\n",
    "        if (i == 0):\n",
    "            row = [f\"P{i}\", allocations[i], maxis[i], og_available, need[i]]\n",
    "        else:\n",
    "            row = [f\"P{i}\", allocations[i], maxis[i], \"\", need[i]]\n",
    "        table.append(row)\n",
    "    \n",
    "\n",
    "    head = [\"Process\", \"Allocation\",  \"Max\", \"Available\", \"Need\"]\n",
    "    print(tabulate(table, headers=head, tablefmt=\"grid\"))\n",
    "    \n",
    "    while True:\n",
    "        quesion = input(\"would you like to see if a request can be granted or not. (y/n)\")\n",
    "        if (quesion == \"y\"):\n",
    "            r = True\n",
    "            p_num = check_in(\"process number\")\n",
    "            request = check_in(\"request\")\n",
    "            request = list(str(request))\n",
    "            for i in range(len(request)):\n",
    "                \n",
    "                if(int(request[i]) > available_list[p_num][1][i]):\n",
    "                    r = False\n",
    "            print(r)\n",
    "        elif (quesion == \"n\"):\n",
    "            break\n",
    "        else:\n",
    "            break\n",
    "    \n",
    "        \n"
   ]
  },
  {
   "cell_type": "markdown",
   "id": "a5463977-384e-43e6-8aa8-3b076c2b3281",
   "metadata": {},
   "source": [
    "#### Examples from Lecture Slides"
   ]
  },
  {
   "cell_type": "code",
   "execution_count": null,
   "id": "3f7c0f67-f9f2-4d91-84ed-54ca33529bd1",
   "metadata": {},
   "outputs": [],
   "source": [
    "# Slide 29:\n",
    "bankers(5, 3, [10, 5, 7], [[0, 1, 0], [2, 0, 0], [3, 0, 2], [2, 1, 1], [0, 0, 2]], [[7, 5, 3], [3, 2, 2], [9, 0, 2], [2, 2, 2], [4, 3, 3]], [3,3,2])\n",
    "#Slide 32?"
   ]
  },
  {
   "cell_type": "markdown",
   "id": "3d852e5c-28f1-4c32-9034-6a568e399b27",
   "metadata": {},
   "source": [
    "## Page Replacement Algorithms"
   ]
  },
  {
   "cell_type": "markdown",
   "id": "c2e2d02b-5e63-4e04-bd3e-bb9c8664d0b7",
   "metadata": {},
   "source": [
    "#### Reading Frames and Reference String"
   ]
  },
  {
   "cell_type": "code",
   "execution_count": 17,
   "id": "e804a803-2628-4d9a-b64f-d20763812677",
   "metadata": {},
   "outputs": [],
   "source": [
    "def feed_me_inputs():\n",
    "    num_of_frames = check_in(\"Number of frames\")\n",
    "    \n",
    "    reference_string = list(input(\"Enter reference_string: \"))\n",
    "    return num_of_frames, reference_string"
   ]
  },
  {
   "cell_type": "markdown",
   "id": "aee0adca-e083-4b64-84a2-73c061a44617",
   "metadata": {},
   "source": [
    "#### Show results"
   ]
  },
  {
   "cell_type": "code",
   "execution_count": 18,
   "id": "a673d5d6-b835-4d43-9d94-e07b08a044b6",
   "metadata": {},
   "outputs": [],
   "source": [
    "def show(page_frames, miss, hit, reference_string):\n",
    "    fliped_list = []\n",
    "    for i in range(len(page_frames[0])):\n",
    "        row =[]\n",
    "        for item in page_frames:\n",
    "            row.append(item[i])\n",
    "        fliped_list.append(row)\n",
    "    \n",
    "    print(tabulate(fliped_list, headers=reference_string, tablefmt=\"grid\"))\n",
    "    print(\"Page Faults: \", miss)\n",
    "    print(\"Hit and Miss Ratio:-\")\n",
    "    print(\"Miss Ratio: \", miss/len(reference_string))\n",
    "    print(\"hit Ratio: \", hit/len(reference_string))"
   ]
  },
  {
   "cell_type": "markdown",
   "id": "4deec51b-76b2-4bb7-9a0a-454e6a8a310e",
   "metadata": {},
   "source": [
    "### First in First out (FIFO)"
   ]
  },
  {
   "cell_type": "code",
   "execution_count": 19,
   "id": "659e6f27-17fe-40b5-b0fd-bf229a487228",
   "metadata": {},
   "outputs": [],
   "source": [
    "def fifo(num_of_frames, reference_string):\n",
    "    if(num_of_frames is None):\n",
    "        num_of_frames, reference_string = feed_me_inputs()\n",
    "\n",
    "    frame = []\n",
    "    for i in range(num_of_frames):\n",
    "        frame.append(None)\n",
    "\n",
    "    page_frames = []\n",
    "    hit = 0\n",
    "    miss = 0\n",
    "    index = 0\n",
    "    for i in reference_string:\n",
    "        \n",
    "        index = index % num_of_frames\n",
    "        if i in frame:\n",
    "            hit += 1\n",
    "            \n",
    "        else:\n",
    "            miss += 1\n",
    "            if None in frame:\n",
    "                frame[frame.index(None)] = i\n",
    "            else:\n",
    "                frame[index] = i\n",
    "            index += 1\n",
    "        \n",
    "        page_frames.append(frame.copy())\n",
    "        \n",
    "    show(page_frames, miss, hit, reference_string)\n",
    "    \n",
    "    \n"
   ]
  },
  {
   "cell_type": "markdown",
   "id": "94e40db7-70e0-4262-bfc0-f793b7cb77a8",
   "metadata": {},
   "source": [
    "#### Examples from Lecture Slides"
   ]
  },
  {
   "cell_type": "code",
   "execution_count": 20,
   "id": "1d60ee1e-0392-48af-9cb2-e8fc55ea1f02",
   "metadata": {},
   "outputs": [
    {
     "name": "stdout",
     "output_type": "stream",
     "text": [
      "+-----+-----+-----+-----+-----+-----+-----+-----+-----+-----+-----+-----+-----+-----+-----+-----+-----+-----+-----+-----+\n",
      "|   7 |   0 |   1 |   2 |   0 |   3 |   0 |   4 |   2 |   3 |   0 |   3 |   2 |   1 |   2 |   0 |   1 |   7 |   0 |   1 |\n",
      "+=====+=====+=====+=====+=====+=====+=====+=====+=====+=====+=====+=====+=====+=====+=====+=====+=====+=====+=====+=====+\n",
      "|   7 |   0 |   1 |   2 |   0 |   3 |   0 |   4 |   2 |   3 |   0 |   3 |   2 |   1 |   2 |   0 |   1 |   7 |   0 |   1 |\n",
      "+-----+-----+-----+-----+-----+-----+-----+-----+-----+-----+-----+-----+-----+-----+-----+-----+-----+-----+-----+-----+\n",
      "Page Faults:  20\n",
      "Hit and Miss Ratio:-\n",
      "Miss Ratio:  1.0\n",
      "hit Ratio:  0.0\n",
      "+-----+-----+-----+-----+-----+-----+-----+-----+-----+-----+-----+-----+-----+-----+-----+-----+-----+-----+-----+-----+\n",
      "|   7 |   0 |   1 |   2 |   0 |   3 |   0 |   4 |   2 |   3 |   0 |   3 |   2 |   1 |   2 |   0 |   1 |   7 |   0 |   1 |\n",
      "+=====+=====+=====+=====+=====+=====+=====+=====+=====+=====+=====+=====+=====+=====+=====+=====+=====+=====+=====+=====+\n",
      "|   7 |   7 |   1 |   1 |   0 |   0 |   0 |   4 |   4 |   3 |   3 |   3 |   2 |   2 |   2 |   0 |   0 |   0 |   0 |   1 |\n",
      "+-----+-----+-----+-----+-----+-----+-----+-----+-----+-----+-----+-----+-----+-----+-----+-----+-----+-----+-----+-----+\n",
      "|     |   0 |   0 |   2 |   2 |   3 |   3 |   3 |   2 |   2 |   0 |   0 |   0 |   1 |   1 |   1 |   1 |   7 |   7 |   7 |\n",
      "+-----+-----+-----+-----+-----+-----+-----+-----+-----+-----+-----+-----+-----+-----+-----+-----+-----+-----+-----+-----+\n",
      "Page Faults:  15\n",
      "Hit and Miss Ratio:-\n",
      "Miss Ratio:  0.75\n",
      "hit Ratio:  0.25\n",
      "+-----+-----+-----+-----+-----+-----+-----+-----+-----+-----+-----+-----+-----+-----+-----+-----+-----+-----+-----+-----+\n",
      "|   7 |   0 |   1 |   2 |   0 |   3 |   0 |   4 |   2 |   3 |   0 |   3 |   2 |   1 |   2 |   0 |   1 |   7 |   0 |   1 |\n",
      "+=====+=====+=====+=====+=====+=====+=====+=====+=====+=====+=====+=====+=====+=====+=====+=====+=====+=====+=====+=====+\n",
      "|   7 |   7 |   7 |   2 |   2 |   2 |   2 |   4 |   4 |   4 |   0 |   0 |   0 |   0 |   0 |   0 |   0 |   7 |   7 |   7 |\n",
      "+-----+-----+-----+-----+-----+-----+-----+-----+-----+-----+-----+-----+-----+-----+-----+-----+-----+-----+-----+-----+\n",
      "|     |   0 |   0 |   0 |   0 |   3 |   3 |   3 |   2 |   2 |   2 |   2 |   2 |   1 |   1 |   1 |   1 |   1 |   0 |   0 |\n",
      "+-----+-----+-----+-----+-----+-----+-----+-----+-----+-----+-----+-----+-----+-----+-----+-----+-----+-----+-----+-----+\n",
      "|     |     |   1 |   1 |   1 |   1 |   0 |   0 |   0 |   3 |   3 |   3 |   3 |   3 |   2 |   2 |   2 |   2 |   2 |   1 |\n",
      "+-----+-----+-----+-----+-----+-----+-----+-----+-----+-----+-----+-----+-----+-----+-----+-----+-----+-----+-----+-----+\n",
      "Page Faults:  15\n",
      "Hit and Miss Ratio:-\n",
      "Miss Ratio:  0.75\n",
      "hit Ratio:  0.25\n",
      "+-----+-----+-----+-----+-----+-----+-----+-----+-----+-----+-----+-----+-----+-----+-----+-----+-----+-----+-----+-----+\n",
      "|   7 |   0 |   1 |   2 |   0 |   3 |   0 |   4 |   2 |   3 |   0 |   3 |   2 |   1 |   2 |   0 |   1 |   7 |   0 |   1 |\n",
      "+=====+=====+=====+=====+=====+=====+=====+=====+=====+=====+=====+=====+=====+=====+=====+=====+=====+=====+=====+=====+\n",
      "|   7 |   7 |   7 |   7 |   7 |   3 |   3 |   3 |   3 |   3 |   3 |   3 |   3 |   3 |   2 |   2 |   2 |   2 |   2 |   2 |\n",
      "+-----+-----+-----+-----+-----+-----+-----+-----+-----+-----+-----+-----+-----+-----+-----+-----+-----+-----+-----+-----+\n",
      "|     |   0 |   0 |   0 |   0 |   0 |   0 |   4 |   4 |   4 |   4 |   4 |   4 |   4 |   4 |   4 |   4 |   7 |   7 |   7 |\n",
      "+-----+-----+-----+-----+-----+-----+-----+-----+-----+-----+-----+-----+-----+-----+-----+-----+-----+-----+-----+-----+\n",
      "|     |     |   1 |   1 |   1 |   1 |   1 |   1 |   1 |   1 |   0 |   0 |   0 |   0 |   0 |   0 |   0 |   0 |   0 |   0 |\n",
      "+-----+-----+-----+-----+-----+-----+-----+-----+-----+-----+-----+-----+-----+-----+-----+-----+-----+-----+-----+-----+\n",
      "|     |     |     |   2 |   2 |   2 |   2 |   2 |   2 |   2 |   2 |   2 |   2 |   1 |   1 |   1 |   1 |   1 |   1 |   1 |\n",
      "+-----+-----+-----+-----+-----+-----+-----+-----+-----+-----+-----+-----+-----+-----+-----+-----+-----+-----+-----+-----+\n",
      "Page Faults:  10\n",
      "Hit and Miss Ratio:-\n",
      "Miss Ratio:  0.5\n",
      "hit Ratio:  0.5\n",
      "+-----+-----+-----+-----+-----+-----+-----+-----+-----+-----+-----+-----+-----+-----+-----+-----+-----+-----+-----+-----+\n",
      "|   7 |   0 |   1 |   2 |   0 |   3 |   0 |   4 |   2 |   3 |   0 |   3 |   2 |   1 |   2 |   0 |   1 |   7 |   0 |   1 |\n",
      "+=====+=====+=====+=====+=====+=====+=====+=====+=====+=====+=====+=====+=====+=====+=====+=====+=====+=====+=====+=====+\n",
      "|   7 |   7 |   7 |   7 |   7 |   7 |   7 |   4 |   4 |   4 |   4 |   4 |   4 |   4 |   4 |   4 |   4 |   4 |   4 |   4 |\n",
      "+-----+-----+-----+-----+-----+-----+-----+-----+-----+-----+-----+-----+-----+-----+-----+-----+-----+-----+-----+-----+\n",
      "|     |   0 |   0 |   0 |   0 |   0 |   0 |   0 |   0 |   0 |   0 |   0 |   0 |   0 |   0 |   0 |   0 |   7 |   7 |   7 |\n",
      "+-----+-----+-----+-----+-----+-----+-----+-----+-----+-----+-----+-----+-----+-----+-----+-----+-----+-----+-----+-----+\n",
      "|     |     |   1 |   1 |   1 |   1 |   1 |   1 |   1 |   1 |   1 |   1 |   1 |   1 |   1 |   1 |   1 |   1 |   0 |   0 |\n",
      "+-----+-----+-----+-----+-----+-----+-----+-----+-----+-----+-----+-----+-----+-----+-----+-----+-----+-----+-----+-----+\n",
      "|     |     |     |   2 |   2 |   2 |   2 |   2 |   2 |   2 |   2 |   2 |   2 |   2 |   2 |   2 |   2 |   2 |   2 |   1 |\n",
      "+-----+-----+-----+-----+-----+-----+-----+-----+-----+-----+-----+-----+-----+-----+-----+-----+-----+-----+-----+-----+\n",
      "|     |     |     |     |     |   3 |   3 |   3 |   3 |   3 |   3 |   3 |   3 |   3 |   3 |   3 |   3 |   3 |   3 |   3 |\n",
      "+-----+-----+-----+-----+-----+-----+-----+-----+-----+-----+-----+-----+-----+-----+-----+-----+-----+-----+-----+-----+\n",
      "Page Faults:  9\n",
      "Hit and Miss Ratio:-\n",
      "Miss Ratio:  0.45\n",
      "hit Ratio:  0.55\n",
      "+-----+-----+-----+-----+-----+-----+-----+-----+-----+-----+-----+-----+-----+-----+-----+-----+-----+-----+-----+-----+\n",
      "|   7 |   0 |   1 |   2 |   0 |   3 |   0 |   4 |   2 |   3 |   0 |   3 |   2 |   1 |   2 |   0 |   1 |   7 |   0 |   1 |\n",
      "+=====+=====+=====+=====+=====+=====+=====+=====+=====+=====+=====+=====+=====+=====+=====+=====+=====+=====+=====+=====+\n",
      "|   7 |   7 |   7 |   7 |   7 |   7 |   7 |   7 |   7 |   7 |   7 |   7 |   7 |   7 |   7 |   7 |   7 |   7 |   7 |   7 |\n",
      "+-----+-----+-----+-----+-----+-----+-----+-----+-----+-----+-----+-----+-----+-----+-----+-----+-----+-----+-----+-----+\n",
      "|     |   0 |   0 |   0 |   0 |   0 |   0 |   0 |   0 |   0 |   0 |   0 |   0 |   0 |   0 |   0 |   0 |   0 |   0 |   0 |\n",
      "+-----+-----+-----+-----+-----+-----+-----+-----+-----+-----+-----+-----+-----+-----+-----+-----+-----+-----+-----+-----+\n",
      "|     |     |   1 |   1 |   1 |   1 |   1 |   1 |   1 |   1 |   1 |   1 |   1 |   1 |   1 |   1 |   1 |   1 |   1 |   1 |\n",
      "+-----+-----+-----+-----+-----+-----+-----+-----+-----+-----+-----+-----+-----+-----+-----+-----+-----+-----+-----+-----+\n",
      "|     |     |     |   2 |   2 |   2 |   2 |   2 |   2 |   2 |   2 |   2 |   2 |   2 |   2 |   2 |   2 |   2 |   2 |   2 |\n",
      "+-----+-----+-----+-----+-----+-----+-----+-----+-----+-----+-----+-----+-----+-----+-----+-----+-----+-----+-----+-----+\n",
      "|     |     |     |     |     |   3 |   3 |   3 |   3 |   3 |   3 |   3 |   3 |   3 |   3 |   3 |   3 |   3 |   3 |   3 |\n",
      "+-----+-----+-----+-----+-----+-----+-----+-----+-----+-----+-----+-----+-----+-----+-----+-----+-----+-----+-----+-----+\n",
      "|     |     |     |     |     |     |     |   4 |   4 |   4 |   4 |   4 |   4 |   4 |   4 |   4 |   4 |   4 |   4 |   4 |\n",
      "+-----+-----+-----+-----+-----+-----+-----+-----+-----+-----+-----+-----+-----+-----+-----+-----+-----+-----+-----+-----+\n",
      "Page Faults:  6\n",
      "Hit and Miss Ratio:-\n",
      "Miss Ratio:  0.3\n",
      "hit Ratio:  0.7\n",
      "+-----+-----+-----+-----+-----+-----+-----+-----+-----+-----+-----+-----+-----+-----+-----+-----+-----+-----+-----+-----+\n",
      "|   7 |   0 |   1 |   2 |   0 |   3 |   0 |   4 |   2 |   3 |   0 |   3 |   2 |   1 |   2 |   0 |   1 |   7 |   0 |   1 |\n",
      "+=====+=====+=====+=====+=====+=====+=====+=====+=====+=====+=====+=====+=====+=====+=====+=====+=====+=====+=====+=====+\n",
      "|   7 |   7 |   7 |   7 |   7 |   7 |   7 |   7 |   7 |   7 |   7 |   7 |   7 |   7 |   7 |   7 |   7 |   7 |   7 |   7 |\n",
      "+-----+-----+-----+-----+-----+-----+-----+-----+-----+-----+-----+-----+-----+-----+-----+-----+-----+-----+-----+-----+\n",
      "|     |   0 |   0 |   0 |   0 |   0 |   0 |   0 |   0 |   0 |   0 |   0 |   0 |   0 |   0 |   0 |   0 |   0 |   0 |   0 |\n",
      "+-----+-----+-----+-----+-----+-----+-----+-----+-----+-----+-----+-----+-----+-----+-----+-----+-----+-----+-----+-----+\n",
      "|     |     |   1 |   1 |   1 |   1 |   1 |   1 |   1 |   1 |   1 |   1 |   1 |   1 |   1 |   1 |   1 |   1 |   1 |   1 |\n",
      "+-----+-----+-----+-----+-----+-----+-----+-----+-----+-----+-----+-----+-----+-----+-----+-----+-----+-----+-----+-----+\n",
      "|     |     |     |   2 |   2 |   2 |   2 |   2 |   2 |   2 |   2 |   2 |   2 |   2 |   2 |   2 |   2 |   2 |   2 |   2 |\n",
      "+-----+-----+-----+-----+-----+-----+-----+-----+-----+-----+-----+-----+-----+-----+-----+-----+-----+-----+-----+-----+\n",
      "|     |     |     |     |     |   3 |   3 |   3 |   3 |   3 |   3 |   3 |   3 |   3 |   3 |   3 |   3 |   3 |   3 |   3 |\n",
      "+-----+-----+-----+-----+-----+-----+-----+-----+-----+-----+-----+-----+-----+-----+-----+-----+-----+-----+-----+-----+\n",
      "|     |     |     |     |     |     |     |   4 |   4 |   4 |   4 |   4 |   4 |   4 |   4 |   4 |   4 |   4 |   4 |   4 |\n",
      "+-----+-----+-----+-----+-----+-----+-----+-----+-----+-----+-----+-----+-----+-----+-----+-----+-----+-----+-----+-----+\n",
      "|     |     |     |     |     |     |     |     |     |     |     |     |     |     |     |     |     |     |     |     |\n",
      "+-----+-----+-----+-----+-----+-----+-----+-----+-----+-----+-----+-----+-----+-----+-----+-----+-----+-----+-----+-----+\n",
      "Page Faults:  6\n",
      "Hit and Miss Ratio:-\n",
      "Miss Ratio:  0.3\n",
      "hit Ratio:  0.7\n"
     ]
    }
   ],
   "source": [
    "#Slide 22:\n",
    "#fifo(3, list(\"70120304230302120701\"))\n",
    "fifo(1, \"70120304230321201701\")\n",
    "fifo(2, \"70120304230321201701\")\n",
    "fifo(3, \"70120304230321201701\")\n",
    "fifo(4, \"70120304230321201701\")\n",
    "fifo(5, \"70120304230321201701\")\n",
    "fifo(6, \"70120304230321201701\")\n",
    "fifo(7, \"70120304230321201701\")\n",
    "# 15 page faults"
   ]
  },
  {
   "cell_type": "markdown",
   "id": "1d653dda-3804-49d6-ab64-0f3844e07c24",
   "metadata": {},
   "source": [
    "### Least Recent Used (LRU)"
   ]
  },
  {
   "cell_type": "code",
   "execution_count": 21,
   "id": "249b5337-3efd-4059-8d43-5b516358992b",
   "metadata": {},
   "outputs": [],
   "source": [
    "def lru(num_of_frames, reference_string):\n",
    "    if(num_of_frames is None):\n",
    "        num_of_frames, reference_string = feed_me_inputs()\n",
    "\n",
    "    frame = []\n",
    "    for i in range(num_of_frames):\n",
    "        frame.append(None)\n",
    "\n",
    "    page_frames = []\n",
    "    hit = 0\n",
    "    miss = 0\n",
    "    oldest = []\n",
    "    for i in reference_string:\n",
    "        if i in frame:\n",
    "            hit += 1\n",
    "            oldest.remove(i)\n",
    "            oldest.append(i)\n",
    "        else:\n",
    "            miss += 1\n",
    "            if None in frame:\n",
    "                frame[frame.index(None)] = i\n",
    "                oldest.append(i)\n",
    "            else:\n",
    "                index = frame.index(oldest[0])\n",
    "                oldest.pop(0)\n",
    "                frame[index] = i\n",
    "                oldest.append(i)\n",
    "            \n",
    "        \n",
    "        page_frames.append(frame.copy())\n",
    "\n",
    "    show(page_frames, miss, hit, reference_string)\n",
    "    \n"
   ]
  },
  {
   "cell_type": "markdown",
   "id": "c23230fb-a43a-4a76-a63f-b0132e1b307a",
   "metadata": {},
   "source": [
    "#### Examples from Lecture Slides"
   ]
  },
  {
   "cell_type": "code",
   "execution_count": 22,
   "id": "d22489d3-4df0-4089-a977-cdfb0ebf319b",
   "metadata": {},
   "outputs": [
    {
     "name": "stdout",
     "output_type": "stream",
     "text": [
      "+-----+-----+-----+-----+-----+-----+-----+-----+-----+-----+-----+-----+-----+-----+-----+-----+-----+-----+-----+-----+\n",
      "|   7 |   0 |   1 |   2 |   0 |   3 |   0 |   4 |   2 |   3 |   0 |   3 |   2 |   1 |   2 |   0 |   1 |   7 |   0 |   1 |\n",
      "+=====+=====+=====+=====+=====+=====+=====+=====+=====+=====+=====+=====+=====+=====+=====+=====+=====+=====+=====+=====+\n",
      "|   7 |   7 |   7 |   7 |   7 |   3 |   3 |   3 |   3 |   3 |   3 |   3 |   3 |   3 |   3 |   3 |   3 |   7 |   7 |   7 |\n",
      "+-----+-----+-----+-----+-----+-----+-----+-----+-----+-----+-----+-----+-----+-----+-----+-----+-----+-----+-----+-----+\n",
      "|     |   0 |   0 |   0 |   0 |   0 |   0 |   0 |   0 |   0 |   0 |   0 |   0 |   0 |   0 |   0 |   0 |   0 |   0 |   0 |\n",
      "+-----+-----+-----+-----+-----+-----+-----+-----+-----+-----+-----+-----+-----+-----+-----+-----+-----+-----+-----+-----+\n",
      "|     |     |   1 |   1 |   1 |   1 |   1 |   4 |   4 |   4 |   4 |   4 |   4 |   1 |   1 |   1 |   1 |   1 |   1 |   1 |\n",
      "+-----+-----+-----+-----+-----+-----+-----+-----+-----+-----+-----+-----+-----+-----+-----+-----+-----+-----+-----+-----+\n",
      "|     |     |     |   2 |   2 |   2 |   2 |   2 |   2 |   2 |   2 |   2 |   2 |   2 |   2 |   2 |   2 |   2 |   2 |   2 |\n",
      "+-----+-----+-----+-----+-----+-----+-----+-----+-----+-----+-----+-----+-----+-----+-----+-----+-----+-----+-----+-----+\n",
      "Page Faults:  8\n",
      "Hit and Miss Ratio:-\n",
      "Miss Ratio:  0.4\n",
      "hit Ratio:  0.6\n"
     ]
    }
   ],
   "source": [
    "#Slide 25:\n",
    "#lru(3, list(\"70120304230302120701\"))\n",
    "# 12 page faults\n",
    "lru(4, \"70120304230321201701\")"
   ]
  },
  {
   "attachments": {},
   "cell_type": "markdown",
   "id": "f297f873-233e-45e7-9c7f-66050ba3568c",
   "metadata": {},
   "source": [
    "### Optimal"
   ]
  },
  {
   "cell_type": "code",
   "execution_count": 23,
   "id": "3a12ce88-6a18-4ad8-8e4f-4c637b09f7a1",
   "metadata": {},
   "outputs": [],
   "source": [
    "def optimal(num_of_frames, reference_string):\n",
    "    if(num_of_frames is None):\n",
    "        num_of_frames, reference_string = feed_me_inputs()\n",
    "\n",
    "    frame = []\n",
    "    for i in range(num_of_frames):\n",
    "        frame.append(None)\n",
    "\n",
    "    page_frames = []\n",
    "    hit = 0\n",
    "    miss = 0\n",
    "    for i in reference_string:\n",
    "        if i in frame:\n",
    "            hit += 1\n",
    "        else:   \n",
    "            miss += 1\n",
    "            if None in frame:\n",
    "                frame[frame.index(None)] = i\n",
    "            else:\n",
    "                farthest_use_index = -1\n",
    "                farthest_use = -1\n",
    "                for j, elem in enumerate(frame):\n",
    "                    try:\n",
    "                        next_use = reference_string.index(elem, reference_string.index(i) + 1)  # Look ahead\n",
    "                    except ValueError:  # If the page is not found again, treat it as \"not used anymore\"\n",
    "                        next_use = float('inf')\n",
    "                    \n",
    "                    if next_use > farthest_use:\n",
    "                        farthest_use = next_use\n",
    "                        farthest_use_index = j\n",
    "                \n",
    "                # Replace the page at the farthest_use_index\n",
    "                frame[farthest_use_index] = i\n",
    "        \n",
    "        page_frames.append(frame.copy())\n",
    "        \n",
    "    show(page_frames, miss, hit, reference_string)\n",
    "    \n",
    "    \n"
   ]
  },
  {
   "cell_type": "markdown",
   "id": "39339496-8064-466b-8efc-2feb06e671aa",
   "metadata": {},
   "source": [
    "#### Examples from Lecture Slides"
   ]
  },
  {
   "cell_type": "code",
   "execution_count": 24,
   "id": "0dd6ba86-7bd4-4d3c-a5c3-da8abbeb63ce",
   "metadata": {},
   "outputs": [
    {
     "name": "stdout",
     "output_type": "stream",
     "text": [
      "+-----+-----+-----+-----+-----+-----+-----+-----+-----+-----+-----+-----+-----+-----+-----+-----+-----+-----+-----+-----+\n",
      "|   7 |   0 |   1 |   2 |   0 |   3 |   0 |   4 |   2 |   3 |   0 |   3 |   2 |   1 |   2 |   0 |   1 |   7 |   0 |   1 |\n",
      "+=====+=====+=====+=====+=====+=====+=====+=====+=====+=====+=====+=====+=====+=====+=====+=====+=====+=====+=====+=====+\n",
      "|   7 |   7 |   7 |   7 |   7 |   3 |   3 |   3 |   3 |   3 |   3 |   3 |   3 |   3 |   3 |   3 |   3 |   7 |   7 |   7 |\n",
      "+-----+-----+-----+-----+-----+-----+-----+-----+-----+-----+-----+-----+-----+-----+-----+-----+-----+-----+-----+-----+\n",
      "|     |   0 |   0 |   0 |   0 |   0 |   0 |   0 |   0 |   0 |   0 |   0 |   0 |   0 |   0 |   0 |   0 |   0 |   0 |   0 |\n",
      "+-----+-----+-----+-----+-----+-----+-----+-----+-----+-----+-----+-----+-----+-----+-----+-----+-----+-----+-----+-----+\n",
      "|     |     |   1 |   1 |   1 |   1 |   1 |   4 |   4 |   4 |   4 |   4 |   4 |   1 |   1 |   1 |   1 |   1 |   1 |   1 |\n",
      "+-----+-----+-----+-----+-----+-----+-----+-----+-----+-----+-----+-----+-----+-----+-----+-----+-----+-----+-----+-----+\n",
      "|     |     |     |   2 |   2 |   2 |   2 |   2 |   2 |   2 |   2 |   2 |   2 |   2 |   2 |   2 |   2 |   2 |   2 |   2 |\n",
      "+-----+-----+-----+-----+-----+-----+-----+-----+-----+-----+-----+-----+-----+-----+-----+-----+-----+-----+-----+-----+\n",
      "Page Faults:  8\n",
      "Hit and Miss Ratio:-\n",
      "Miss Ratio:  0.4\n",
      "hit Ratio:  0.6\n"
     ]
    }
   ],
   "source": [
    "#Slide 25:\n",
    "optimal(4, \"70120304230321201701\")#(3, list(\"70120304230302120701\"))\n",
    "# 12 page faults"
   ]
  },
  {
   "cell_type": "markdown",
   "id": "6427c082-3b07-49e7-bdd5-51c9ca8e56ea",
   "metadata": {},
   "source": [
    "## Menu"
   ]
  },
  {
   "cell_type": "code",
   "execution_count": 26,
   "id": "c50a5b07-47f1-4d3b-9892-30d4459faa37",
   "metadata": {},
   "outputs": [
    {
     "name": "stdout",
     "output_type": "stream",
     "text": [
      "Chose an Algorithm by entering a number: \n",
      "Scheduling Algorithms\n",
      "1. First Come First Serve (FCFS)\n",
      "2. Shortest Job First (Non-Preemptive)\n",
      "3. Shortest Job First (Preemptive)\n",
      "4. Round Robin\n",
      "Deadlock Avoidance Algorithm\n",
      "5. Banker's Algorithm\n",
      "Page Replacement Algorithms\n",
      "6. First in First out (FIFO)\n",
      "7. Least Recent Used (LRU)\n",
      "8. Optimal\n",
      "9. Exit\n"
     ]
    },
    {
     "ename": "KeyboardInterrupt",
     "evalue": "Interrupted by user",
     "output_type": "error",
     "traceback": [
      "\u001b[0;31m---------------------------------------------------------------------------\u001b[0m",
      "\u001b[0;31mKeyboardInterrupt\u001b[0m                         Traceback (most recent call last)",
      "Cell \u001b[0;32mIn[26], line 16\u001b[0m\n\u001b[1;32m     14\u001b[0m \u001b[38;5;28mprint\u001b[39m(\u001b[38;5;124m\"\u001b[39m\u001b[38;5;124m8. Optimal\u001b[39m\u001b[38;5;124m\"\u001b[39m)\n\u001b[1;32m     15\u001b[0m \u001b[38;5;28mprint\u001b[39m(\u001b[38;5;124m\"\u001b[39m\u001b[38;5;124m9. Exit\u001b[39m\u001b[38;5;124m\"\u001b[39m)\n\u001b[0;32m---> 16\u001b[0m choice \u001b[38;5;241m=\u001b[39m \u001b[38;5;28mint\u001b[39m(\u001b[38;5;28;43minput\u001b[39;49m\u001b[43m(\u001b[49m\u001b[38;5;124;43m\"\u001b[39;49m\u001b[38;5;124;43mEnter your choice: \u001b[39;49m\u001b[38;5;124;43m\"\u001b[39;49m\u001b[43m)\u001b[49m)\n\u001b[1;32m     17\u001b[0m \u001b[38;5;28;01mif\u001b[39;00m choice \u001b[38;5;241m==\u001b[39m \u001b[38;5;241m1\u001b[39m:\n\u001b[1;32m     18\u001b[0m     fcfs(\u001b[38;5;28;01mNone\u001b[39;00m)\n",
      "File \u001b[0;32m~/Library/Python/3.9/lib/python/site-packages/ipykernel/kernelbase.py:1282\u001b[0m, in \u001b[0;36mKernel.raw_input\u001b[0;34m(self, prompt)\u001b[0m\n\u001b[1;32m   1280\u001b[0m     msg \u001b[38;5;241m=\u001b[39m \u001b[38;5;124m\"\u001b[39m\u001b[38;5;124mraw_input was called, but this frontend does not support input requests.\u001b[39m\u001b[38;5;124m\"\u001b[39m\n\u001b[1;32m   1281\u001b[0m     \u001b[38;5;28;01mraise\u001b[39;00m StdinNotImplementedError(msg)\n\u001b[0;32m-> 1282\u001b[0m \u001b[38;5;28;01mreturn\u001b[39;00m \u001b[38;5;28;43mself\u001b[39;49m\u001b[38;5;241;43m.\u001b[39;49m\u001b[43m_input_request\u001b[49m\u001b[43m(\u001b[49m\n\u001b[1;32m   1283\u001b[0m \u001b[43m    \u001b[49m\u001b[38;5;28;43mstr\u001b[39;49m\u001b[43m(\u001b[49m\u001b[43mprompt\u001b[49m\u001b[43m)\u001b[49m\u001b[43m,\u001b[49m\n\u001b[1;32m   1284\u001b[0m \u001b[43m    \u001b[49m\u001b[38;5;28;43mself\u001b[39;49m\u001b[38;5;241;43m.\u001b[39;49m\u001b[43m_parent_ident\u001b[49m\u001b[43m[\u001b[49m\u001b[38;5;124;43m\"\u001b[39;49m\u001b[38;5;124;43mshell\u001b[39;49m\u001b[38;5;124;43m\"\u001b[39;49m\u001b[43m]\u001b[49m\u001b[43m,\u001b[49m\n\u001b[1;32m   1285\u001b[0m \u001b[43m    \u001b[49m\u001b[38;5;28;43mself\u001b[39;49m\u001b[38;5;241;43m.\u001b[39;49m\u001b[43mget_parent\u001b[49m\u001b[43m(\u001b[49m\u001b[38;5;124;43m\"\u001b[39;49m\u001b[38;5;124;43mshell\u001b[39;49m\u001b[38;5;124;43m\"\u001b[39;49m\u001b[43m)\u001b[49m\u001b[43m,\u001b[49m\n\u001b[1;32m   1286\u001b[0m \u001b[43m    \u001b[49m\u001b[43mpassword\u001b[49m\u001b[38;5;241;43m=\u001b[39;49m\u001b[38;5;28;43;01mFalse\u001b[39;49;00m\u001b[43m,\u001b[49m\n\u001b[1;32m   1287\u001b[0m \u001b[43m\u001b[49m\u001b[43m)\u001b[49m\n",
      "File \u001b[0;32m~/Library/Python/3.9/lib/python/site-packages/ipykernel/kernelbase.py:1325\u001b[0m, in \u001b[0;36mKernel._input_request\u001b[0;34m(self, prompt, ident, parent, password)\u001b[0m\n\u001b[1;32m   1322\u001b[0m \u001b[38;5;28;01mexcept\u001b[39;00m \u001b[38;5;167;01mKeyboardInterrupt\u001b[39;00m:\n\u001b[1;32m   1323\u001b[0m     \u001b[38;5;66;03m# re-raise KeyboardInterrupt, to truncate traceback\u001b[39;00m\n\u001b[1;32m   1324\u001b[0m     msg \u001b[38;5;241m=\u001b[39m \u001b[38;5;124m\"\u001b[39m\u001b[38;5;124mInterrupted by user\u001b[39m\u001b[38;5;124m\"\u001b[39m\n\u001b[0;32m-> 1325\u001b[0m     \u001b[38;5;28;01mraise\u001b[39;00m \u001b[38;5;167;01mKeyboardInterrupt\u001b[39;00m(msg) \u001b[38;5;28;01mfrom\u001b[39;00m \u001b[38;5;28;01mNone\u001b[39;00m\n\u001b[1;32m   1326\u001b[0m \u001b[38;5;28;01mexcept\u001b[39;00m \u001b[38;5;167;01mException\u001b[39;00m:\n\u001b[1;32m   1327\u001b[0m     \u001b[38;5;28mself\u001b[39m\u001b[38;5;241m.\u001b[39mlog\u001b[38;5;241m.\u001b[39mwarning(\u001b[38;5;124m\"\u001b[39m\u001b[38;5;124mInvalid Message:\u001b[39m\u001b[38;5;124m\"\u001b[39m, exc_info\u001b[38;5;241m=\u001b[39m\u001b[38;5;28;01mTrue\u001b[39;00m)\n",
      "\u001b[0;31mKeyboardInterrupt\u001b[0m: Interrupted by user"
     ]
    }
   ],
   "source": [
    "keepGoing = True\n",
    "while (keepGoing == True):\n",
    "    print(\"Chose an Algorithm by entering a number: \")\n",
    "    print(\"Scheduling Algorithms\")\n",
    "    print(\"1. First Come First Serve (FCFS)\")\n",
    "    print(\"2. Shortest Job First (Non-Preemptive)\")\n",
    "    print(\"3. Shortest Job First (Preemptive)\")\n",
    "    print(\"4. Round Robin\")\n",
    "    print(\"Deadlock Avoidance Algorithm\")\n",
    "    print(\"5. Banker's Algorithm\")\n",
    "    print(\"Page Replacement Algorithms\")\n",
    "    print(\"6. First in First out (FIFO)\")\n",
    "    print(\"7. Least Recent Used (LRU)\")\n",
    "    print(\"8. Optimal\")\n",
    "    print(\"9. Exit\")\n",
    "    choice = int(input(\"Enter your choice: \"))\n",
    "    if choice == 1:\n",
    "        fcfs(None)\n",
    "    elif choice == 2:\n",
    "        sjf_non_preemptive(None)\n",
    "    elif choice == 3:\n",
    "        sjf_preemptive(None)\n",
    "    elif choice == 4:\n",
    "        round_robin(None, 0)\n",
    "    elif choice == 5:\n",
    "        bankers(None,0,0,0,0,0)\n",
    "    elif choice == 6:\n",
    "        fifo(None, None)\n",
    "    elif choice == 7:\n",
    "        lru(None, None)\n",
    "    elif choice == 8:\n",
    "        optimal(None, None)\n",
    "    elif choice == 9:\n",
    "        print(\"WE ARE DONE, GET OUT OF HERE!\")\n",
    "        keepGoing = False\n",
    "    else:\n",
    "        print(\"\\nInvalid choice! Please try again.\\n\")\n",
    "    "
   ]
  },
  {
   "cell_type": "code",
   "execution_count": null,
   "id": "635622a3-23f1-489e-a3b0-09a8db50e9ad",
   "metadata": {},
   "outputs": [],
   "source": []
  }
 ],
 "metadata": {
  "kernelspec": {
   "display_name": "Python 3 (ipykernel)",
   "language": "python",
   "name": "python3"
  },
  "language_info": {
   "codemirror_mode": {
    "name": "ipython",
    "version": 3
   },
   "file_extension": ".py",
   "mimetype": "text/x-python",
   "name": "python",
   "nbconvert_exporter": "python",
   "pygments_lexer": "ipython3",
   "version": "3.9.6"
  }
 },
 "nbformat": 4,
 "nbformat_minor": 5
}
